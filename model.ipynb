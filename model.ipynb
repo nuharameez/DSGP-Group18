{
 "cells": [
  {
   "cell_type": "code",
   "execution_count": 4,
   "metadata": {},
   "outputs": [
    {
     "name": "stdout",
     "output_type": "stream",
     "text": [
      "WARNING:tensorflow:From c:\\Users\\chanu\\AppData\\Local\\Programs\\Python\\Python310\\lib\\site-packages\\keras\\src\\losses.py:2976: The name tf.losses.sparse_softmax_cross_entropy is deprecated. Please use tf.compat.v1.losses.sparse_softmax_cross_entropy instead.\n",
      "\n"
     ]
    }
   ],
   "source": [
    "import tensorflow as tf\n",
    "from tensorflow.keras import layers, models\n",
    "from tensorflow.keras.preprocessing.image import ImageDataGenerator\n",
    "from tensorflow.keras.preprocessing import image\n",
    "from tensorflow.keras.models import load_model\n",
    "import numpy as np\n",
    "import os"
   ]
  },
  {
   "cell_type": "code",
   "execution_count": 5,
   "metadata": {},
   "outputs": [],
   "source": [
    "# Define the input shape of your images\n",
    "input_shape = (224, 224, 3)  # Adjust the dimensions based on your images"
   ]
  },
  {
   "cell_type": "code",
   "execution_count": 6,
   "metadata": {},
   "outputs": [
    {
     "name": "stdout",
     "output_type": "stream",
     "text": [
      "WARNING:tensorflow:From c:\\Users\\chanu\\AppData\\Local\\Programs\\Python\\Python310\\lib\\site-packages\\keras\\src\\backend.py:873: The name tf.get_default_graph is deprecated. Please use tf.compat.v1.get_default_graph instead.\n",
      "\n"
     ]
    }
   ],
   "source": [
    "# Define the CNN model\n",
    "model = models.Sequential()"
   ]
  },
  {
   "cell_type": "code",
   "execution_count": 7,
   "metadata": {},
   "outputs": [
    {
     "name": "stdout",
     "output_type": "stream",
     "text": [
      "WARNING:tensorflow:From c:\\Users\\chanu\\AppData\\Local\\Programs\\Python\\Python310\\lib\\site-packages\\keras\\src\\layers\\pooling\\max_pooling2d.py:161: The name tf.nn.max_pool is deprecated. Please use tf.nn.max_pool2d instead.\n",
      "\n"
     ]
    }
   ],
   "source": [
    "# Convolutional layers\n",
    "model.add(layers.Conv2D(32, (3, 3), activation='relu', input_shape=input_shape))\n",
    "model.add(layers.MaxPooling2D((2, 2)))\n",
    "model.add(layers.Conv2D(64, (3, 3), activation='relu'))\n",
    "model.add(layers.MaxPooling2D((2, 2)))\n",
    "model.add(layers.Conv2D(128, (3, 3), activation='relu'))\n",
    "model.add(layers.MaxPooling2D((2, 2)))"
   ]
  },
  {
   "cell_type": "code",
   "execution_count": 8,
   "metadata": {},
   "outputs": [],
   "source": [
    "# Flatten the output to feed into dense layers\n",
    "model.add(layers.Flatten())"
   ]
  },
  {
   "cell_type": "code",
   "execution_count": 9,
   "metadata": {},
   "outputs": [],
   "source": [
    "# Dense layers\n",
    "model.add(layers.Dense(128, activation='relu'))\n",
    "model.add(layers.Dropout(0.5))  # Optional dropout layer for regularization\n",
    "model.add(layers.Dense(1, activation='sigmoid'))  # Output layer for binary classification"
   ]
  },
  {
   "cell_type": "code",
   "execution_count": 10,
   "metadata": {},
   "outputs": [
    {
     "name": "stdout",
     "output_type": "stream",
     "text": [
      "WARNING:tensorflow:From c:\\Users\\chanu\\AppData\\Local\\Programs\\Python\\Python310\\lib\\site-packages\\keras\\src\\optimizers\\__init__.py:309: The name tf.train.Optimizer is deprecated. Please use tf.compat.v1.train.Optimizer instead.\n",
      "\n",
      "Model: \"sequential\"\n",
      "_________________________________________________________________\n",
      " Layer (type)                Output Shape              Param #   \n",
      "=================================================================\n",
      " conv2d (Conv2D)             (None, 222, 222, 32)      896       \n",
      "                                                                 \n",
      " max_pooling2d (MaxPooling2  (None, 111, 111, 32)      0         \n",
      " D)                                                              \n",
      "                                                                 \n",
      " conv2d_1 (Conv2D)           (None, 109, 109, 64)      18496     \n",
      "                                                                 \n",
      " max_pooling2d_1 (MaxPoolin  (None, 54, 54, 64)        0         \n",
      " g2D)                                                            \n",
      "                                                                 \n",
      " conv2d_2 (Conv2D)           (None, 52, 52, 128)       73856     \n",
      "                                                                 \n",
      " max_pooling2d_2 (MaxPoolin  (None, 26, 26, 128)       0         \n",
      " g2D)                                                            \n",
      "                                                                 \n",
      " flatten (Flatten)           (None, 86528)             0         \n",
      "                                                                 \n",
      " dense (Dense)               (None, 128)               11075712  \n",
      "                                                                 \n",
      " dropout (Dropout)           (None, 128)               0         \n",
      "                                                                 \n",
      " dense_1 (Dense)             (None, 1)                 129       \n",
      "                                                                 \n",
      "=================================================================\n",
      "Total params: 11169089 (42.61 MB)\n",
      "Trainable params: 11169089 (42.61 MB)\n",
      "Non-trainable params: 0 (0.00 Byte)\n",
      "_________________________________________________________________\n"
     ]
    }
   ],
   "source": [
    "# Compile the model\n",
    "model.compile(optimizer='adam', loss='binary_crossentropy', metrics=['accuracy'])\n",
    "\n",
    "# Display the model summary\n",
    "model.summary()"
   ]
  },
  {
   "cell_type": "code",
   "execution_count": 11,
   "metadata": {},
   "outputs": [],
   "source": [
    "# Set up data generators to load and preprocess images\n",
    "train_datagen = ImageDataGenerator(\n",
    "    rescale=1./255,\n",
    "    rotation_range = 20,\n",
    "    width_shift_range = 0.2,\n",
    "    height_shift_range = 0.2,\n",
    "    shear_range = 0.2,\n",
    "    zoom_range = 0.2,\n",
    "    horizontal_flip = True,\n",
    "    fill_mode = 'nearest')"
   ]
  },
  {
   "cell_type": "code",
   "execution_count": 12,
   "metadata": {},
   "outputs": [],
   "source": [
    "validation_datagen = ImageDataGenerator(rescale=1./255)"
   ]
  },
  {
   "cell_type": "code",
   "execution_count": 22,
   "metadata": {},
   "outputs": [],
   "source": [
    "test_datagen = ImageDataGenerator(rescale=1./255)"
   ]
  },
  {
   "cell_type": "markdown",
   "metadata": {},
   "source": [
    "training set"
   ]
  },
  {
   "cell_type": "code",
   "execution_count": 13,
   "metadata": {},
   "outputs": [
    {
     "name": "stdout",
     "output_type": "stream",
     "text": [
      "Found 7486 images belonging to 2 classes.\n"
     ]
    }
   ],
   "source": [
    "train_generator = train_datagen.flow_from_directory(\n",
    "    \"C:\\DSGP_Model_Training_In_Colab\\Train\",  # Path to your train folder\n",
    "    target_size=input_shape[:2],\n",
    "    batch_size=32,\n",
    "    class_mode='binary',  # Binary classification\n",
    "    classes=['Knee bone', 'NonKnee bones'],  # Class labels\n",
    "    shuffle=True  # Shuffle the data\n",
    "\n",
    ")"
   ]
  },
  {
   "cell_type": "code",
   "execution_count": 14,
   "metadata": {},
   "outputs": [
    {
     "name": "stdout",
     "output_type": "stream",
     "text": [
      "Found 1557 images belonging to 2 classes.\n"
     ]
    }
   ],
   "source": [
    "validation_generator = validation_datagen.flow_from_directory(\n",
    "    \"C:\\DSGP_Model_Training_In_Colab\\Validate\",  # Path to your validate folder\n",
    "    target_size=input_shape[:2],\n",
    "    batch_size=32,\n",
    "    class_mode='binary',\n",
    "    classes=['Knee bone', 'NonKnee bones']\n",
    ")"
   ]
  },
  {
   "cell_type": "code",
   "execution_count": 23,
   "metadata": {},
   "outputs": [
    {
     "name": "stdout",
     "output_type": "stream",
     "text": [
      "Found 251 images belonging to 2 classes.\n"
     ]
    }
   ],
   "source": [
    "# Load test data\n",
    "test_generator = test_datagen.flow_from_directory(\n",
    "    'C:\\DSGP_Model_Training_In_Colab\\Test',\n",
    "    target_size=input_shape[:2],\n",
    "    batch_size=32,\n",
    "    class_mode='binary',\n",
    "    #color_mode='grayscale',\n",
    "    shuffle=False  # Important: Do not shuffle the test data\n",
    ")"
   ]
  },
  {
   "cell_type": "code",
   "execution_count": 15,
   "metadata": {},
   "outputs": [
    {
     "name": "stdout",
     "output_type": "stream",
     "text": [
      "Epoch 1/10\n",
      "WARNING:tensorflow:From c:\\Users\\chanu\\AppData\\Local\\Programs\\Python\\Python310\\lib\\site-packages\\keras\\src\\utils\\tf_utils.py:492: The name tf.ragged.RaggedTensorValue is deprecated. Please use tf.compat.v1.ragged.RaggedTensorValue instead.\n",
      "\n",
      "WARNING:tensorflow:From c:\\Users\\chanu\\AppData\\Local\\Programs\\Python\\Python310\\lib\\site-packages\\keras\\src\\engine\\base_layer_utils.py:384: The name tf.executing_eagerly_outside_functions is deprecated. Please use tf.compat.v1.executing_eagerly_outside_functions instead.\n",
      "\n",
      "234/234 [==============================] - 374s 2s/step - loss: 0.2915 - accuracy: 0.8926 - val_loss: 0.1110 - val_accuracy: 0.9563\n",
      "Epoch 2/10\n",
      "234/234 [==============================] - 231s 985ms/step - loss: 0.1034 - accuracy: 0.9687 - val_loss: 0.0950 - val_accuracy: 0.9672\n",
      "Epoch 3/10\n",
      "234/234 [==============================] - 211s 901ms/step - loss: 0.0680 - accuracy: 0.9824 - val_loss: 0.0504 - val_accuracy: 0.9794\n",
      "Epoch 4/10\n",
      "234/234 [==============================] - 219s 934ms/step - loss: 0.0685 - accuracy: 0.9818 - val_loss: 0.0591 - val_accuracy: 0.9769\n",
      "Epoch 5/10\n",
      "234/234 [==============================] - 232s 989ms/step - loss: 0.1213 - accuracy: 0.9666 - val_loss: 0.1596 - val_accuracy: 0.9544\n",
      "Epoch 6/10\n",
      "234/234 [==============================] - 267s 1s/step - loss: 0.0731 - accuracy: 0.9790 - val_loss: 0.0599 - val_accuracy: 0.9717\n",
      "Epoch 7/10\n",
      "234/234 [==============================] - 263s 1s/step - loss: 0.0633 - accuracy: 0.9825 - val_loss: 0.0567 - val_accuracy: 0.9762\n",
      "Epoch 8/10\n",
      "234/234 [==============================] - 243s 1s/step - loss: 0.0722 - accuracy: 0.9820 - val_loss: 0.1066 - val_accuracy: 0.9724\n",
      "Epoch 9/10\n",
      "234/234 [==============================] - 242s 1s/step - loss: 0.0486 - accuracy: 0.9850 - val_loss: 0.0496 - val_accuracy: 0.9814\n",
      "Epoch 10/10\n",
      "234/234 [==============================] - 230s 982ms/step - loss: 0.0706 - accuracy: 0.9805 - val_loss: 0.0662 - val_accuracy: 0.9698\n"
     ]
    }
   ],
   "source": [
    "# Train the model\n",
    "history = model.fit(\n",
    "    train_generator,\n",
    "    epochs=10,  # Adjust the number of epochs based on your needs\n",
    "    validation_data=validation_generator,\n",
    "    validation_steps=len(validation_generator)\n",
    ")"
   ]
  },
  {
   "cell_type": "code",
   "execution_count": 16,
   "metadata": {},
   "outputs": [
    {
     "name": "stdout",
     "output_type": "stream",
     "text": [
      "49/49 - 11s - loss: 0.0662 - accuracy: 0.9698 - 11s/epoch - 232ms/step\n",
      "Validation Loss: 0.0662, Validation Accuracy: 0.9698\n"
     ]
    }
   ],
   "source": [
    "# Evaluate the model on the validation set\n",
    "val_loss, val_acc = model.evaluate(validation_generator, verbose=2)\n",
    "print(f\"Validation Loss: {val_loss:.4f}, Validation Accuracy: {val_acc:.4f}\")\n"
   ]
  },
  {
   "cell_type": "code",
   "execution_count": 17,
   "metadata": {},
   "outputs": [
    {
     "name": "stdout",
     "output_type": "stream",
     "text": [
      "Training Accuracy: 0.9804969429969788\n",
      "Validation Accuracy: 0.9698137640953064\n",
      "Training Loss: 0.07056572288274765\n",
      "Validation Loss: 0.06623703986406326\n"
     ]
    }
   ],
   "source": [
    "# Get training and validation accuracy\n",
    "train_accuracy = history.history['accuracy']\n",
    "validation_accuracy = history.history['val_accuracy']\n",
    "\n",
    "# Get training and validation loss\n",
    "train_loss = history.history['loss']\n",
    "validation_loss = history.history['val_loss']\n",
    "\n",
    "# Print or use the obtained metrics as needed\n",
    "print(\"Training Accuracy:\", train_accuracy[-1])\n",
    "print(\"Validation Accuracy:\", validation_accuracy[-1])\n",
    "\n",
    "print(\"Training Loss:\", train_loss[-1])\n",
    "print(\"Validation Loss:\", validation_loss[-1])"
   ]
  },
  {
   "cell_type": "code",
   "execution_count": 18,
   "metadata": {},
   "outputs": [
    {
     "data": {
      "image/png": "[encoded data removed]",
      "text/plain": [
       "<Figure size 640x480 with 1 Axes>"
      ]
     },
     "metadata": {},
     "output_type": "display_data"
    }
   ],
   "source": [
    "import matplotlib.pyplot as plt\n",
    "\n",
    "# Plot training and validation accuracy\n",
    "plt.plot(history.history['accuracy'], label='Training Accuracy')\n",
    "plt.plot(history.history['val_accuracy'], label='Validation Accuracy')\n",
    "plt.xlabel('Epoch')\n",
    "plt.ylabel('Accuracy')\n",
    "plt.legend()\n",
    "plt.show()\n"
   ]
  },
  {
   "cell_type": "code",
   "execution_count": 24,
   "metadata": {},
   "outputs": [
    {
     "name": "stdout",
     "output_type": "stream",
     "text": [
      "8/8 [==============================] - 6s 613ms/step\n",
      "Confusion Matrix for Testing Dataset:\n",
      "[[108   2]\n",
      " [  1 140]]\n"
     ]
    },
    {
     "data": {
      "image/png": "[encoded data removed]",
      "text/plain": [
       "<Figure size 640x480 with 2 Axes>"
      ]
     },
     "metadata": {},
     "output_type": "display_data"
    }
   ],
   "source": [
    "# Generate predictions for the testing dataset\n",
    "test_predictions = model.predict(test_generator)\n",
    "test_predictions_rounded = np.round(test_predictions)\n",
    "\n",
    "# Get true labels for the testing dataset\n",
    "test_true_labels = test_generator.classes\n",
    "\n",
    "# Calculate confusion matrix for the testing dataset\n",
    "conf_matrix_test = confusion_matrix(test_true_labels, test_predictions_rounded)\n",
    "\n",
    "# Print confusion matrix for testing dataset\n",
    "print(\"Confusion Matrix for Testing Dataset:\")\n",
    "print(conf_matrix_test)\n",
    "\n",
    "# Visualize confusion matrix for testing dataset\n",
    "sns.heatmap(conf_matrix_test, annot=True, fmt='d', cmap='Blues')\n",
    "plt.xlabel('Predicted labels')\n",
    "plt.ylabel('True labels')\n",
    "plt.title('Confusion Matrix for Testing Dataset')\n",
    "plt.show()\n"
   ]
  },
  {
   "cell_type": "code",
   "execution_count": 39,
   "metadata": {},
   "outputs": [
    {
     "name": "stdout",
     "output_type": "stream",
     "text": [
      "Classification Report for Testing Dataset:\n",
      "               precision    recall  f1-score   support\n",
      "\n",
      "NonKnee bones       0.99      0.98      0.99       110\n",
      "    Knee bone       0.99      0.99      0.99       141\n",
      "\n",
      "     accuracy                           0.99       251\n",
      "    macro avg       0.99      0.99      0.99       251\n",
      " weighted avg       0.99      0.99      0.99       251\n",
      "\n"
     ]
    }
   ],
   "source": [
    "from sklearn.metrics import classification_report\n",
    "\n",
    "# Generate classification report for the testing dataset\n",
    "report = classification_report(test_true_labels, test_predictions_rounded, target_names=['NonKnee bones', 'Knee bone'])\n",
    "\n",
    "# Print classification report\n",
    "print(\"Classification Report for Testing Dataset:\")\n",
    "print(report)\n"
   ]
  },
  {
   "cell_type": "code",
   "execution_count": 85,
   "metadata": {},
   "outputs": [
    {
     "name": "stdout",
     "output_type": "stream",
     "text": [
      "8/8 - 4s - loss: 0.1254 - accuracy: 0.9841 - 4s/epoch - 507ms/step\n",
      "Test Loss: 0.1254, Test Accuracy: 0.9841\n",
      "break\n"
     ]
    },
    {
     "data": {
      "image/png": "[encoded data removed]",
      "text/plain": [
       "<Figure size 640x480 with 1 Axes>"
      ]
     },
     "metadata": {},
     "output_type": "display_data"
    },
    {
     "name": "stdout",
     "output_type": "stream",
     "text": [
      "Found 251 images belonging to 2 classes.\n",
      "8/8 [==============================] - 2s 224ms/step - loss: 0.1254 - accuracy: 0.9841\n",
      "Test accuracy: 0.98\n"
     ]
    }
   ],
   "source": [
    "# Evaluate the model on the test set\n",
    "test_loss, test_acc = model.evaluate(test_generator, verbose=2)\n",
    "print(f\"Test Loss: {test_loss:.4f}, Test Accuracy: {test_acc:.4f}\")\n",
    "\n",
    "print(\"break\")\n",
    "\n",
    "# Add the test accuracy to the chart\n",
    "plt.plot(history.history['accuracy'], label='Training Accuracy')\n",
    "plt.plot(history.history['val_accuracy'], label='Validation Accuracy')\n",
    "plt.axhline(y=test_acc, color='r', linestyle='--', label='Test Accuracy')\n",
    "plt.xlabel('Epoch')\n",
    "plt.ylabel('Accuracy')\n",
    "plt.legend()\n",
    "plt.show()\n",
    "\n",
    "\n",
    "test_datagen = ImageDataGenerator(rescale=1./255)\n",
    "test_generator = test_datagen.flow_from_directory(\n",
    "    'C:\\DSGP_Model_Training_In_Colab\\Test',  # Specify your test folder path\n",
    "    target_size=(224, 224),\n",
    "    batch_size=32,\n",
    "    class_mode='binary'\n",
    ")\n",
    "\n",
    "loss, accuracy = model.evaluate(test_generator)\n",
    "print(f\"Test accuracy: {accuracy:.2f}\")"
   ]
  },
  {
   "cell_type": "code",
   "execution_count": 86,
   "metadata": {},
   "outputs": [
    {
     "name": "stderr",
     "output_type": "stream",
     "text": [
      "c:\\Users\\chanu\\AppData\\Local\\Programs\\Python\\Python310\\lib\\site-packages\\keras\\src\\engine\\training.py:3103: UserWarning: You are saving your model as an HDF5 file via `model.save()`. This file format is considered legacy. We recommend using instead the native Keras format, e.g. `model.save('my_model.keras')`.\n",
      "  saving_api.save_model(\n"
     ]
    }
   ],
   "source": [
    "# Save the model to a file\n",
    "model.save('knee_identifier.h5')\n"
   ]
  },
  {
   "cell_type": "code",
   "execution_count": 87,
   "metadata": {},
   "outputs": [],
   "source": [
    "# Load the saved model\n",
    "loaded_model = load_model('knee_identifier.h5')\n",
    "\n",
    "# Directory containing the test images\n",
    "test_images_dir = 'C:\\DSGP_Model_Training_In_Colab\\Test'"
   ]
  },
  {
   "cell_type": "code",
   "execution_count": 88,
   "metadata": {},
   "outputs": [],
   "source": [
    "from PIL import ImageEnhance, Image"
   ]
  },
  {
   "cell_type": "code",
   "execution_count": 89,
   "metadata": {},
   "outputs": [
    {
     "name": "stdout",
     "output_type": "stream",
     "text": [
      "1/1 [==============================] - 0s 399ms/step\n",
      "chest-x-ray-29.jpg: Predicted - Non-Knee Bone\n",
      "1/1 [==============================] - 0s 49ms/step\n",
      "download.jpeg: Predicted - Non-Knee Bone\n",
      "1/1 [==============================] - 0s 48ms/step\n",
      "ICE-006-Knee-XR-Segond.jpeg: Predicted - Knee Bone\n",
      "1/1 [==============================] - 0s 47ms/step\n",
      "injured-deteroriated-knee-x-ray-768x1024.jpg: Predicted - Non-Knee Bone\n",
      "1/1 [==============================] - 0s 40ms/step\n",
      "Pelvis xray (859).png: Predicted - Non-Knee Bone\n",
      "1/1 [==============================] - 0s 43ms/step\n",
      "standin-ap-xr-with-med-oa-g-1.webp: Predicted - Knee Bone\n"
     ]
    }
   ],
   "source": [
    "# Load the saved model\n",
    "loaded_model = load_model('knee_identifier.h5')\n",
    "\n",
    "# Directory containing the test images\n",
    "testimagesdir = \"C:\\DSGP_Model_Training_In_Colab\\Check\"\n",
    "# Loop through each file in the directory\n",
    "for filename in os.listdir(testimagesdir):\n",
    "        # Construct the full file path\n",
    "        img_path = os.path.join(testimagesdir, filename)\n",
    "\n",
    "        # Load and preprocess the image\n",
    "        img = image.load_img(img_path, target_size=(224, 224))\n",
    "        img_array = image.img_to_array(img)\n",
    "        img_array = np.expand_dims(img_array, axis=0)\n",
    "        img_array /= 255.0  # Rescale to match the training data\n",
    "\n",
    "\n",
    "        # Make predictions using the loaded model\n",
    "        predictions = loaded_model.predict(img_array)\n",
    "\n",
    "        # Display the result\n",
    "        if predictions[0][0] < 0.5:\n",
    "            print(f\"{filename}: Predicted - Knee Bone\")\n",
    "        else:\n",
    "            print(f\"{filename}: Predicted - Non-Knee Bone\")"
   ]
  }
 ],
 "metadata": {
  "kernelspec": {
   "display_name": "Python 3",
   "language": "python",
   "name": "python3"
  },
  "language_info": {
   "codemirror_mode": {
    "name": "ipython",
    "version": 3
   },
   "file_extension": ".py",
   "mimetype": "text/x-python",
   "name": "python",
   "nbconvert_exporter": "python",
   "pygments_lexer": "ipython3",
   "version": "3.10.7"
  }
 },
 "nbformat": 4,
 "nbformat_minor": 2
}
